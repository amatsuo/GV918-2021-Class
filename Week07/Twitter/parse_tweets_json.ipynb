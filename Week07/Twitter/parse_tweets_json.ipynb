{
 "cells": [
  {
   "cell_type": "code",
   "execution_count": null,
   "metadata": {},
   "outputs": [],
   "source": [
    "import json\n",
    "import csv\n",
    "import shutil\n",
    "import bz2\n",
    "from datetime import datetime\n",
    "import re\n",
    "import os"
   ]
  },
  {
   "cell_type": "code",
   "execution_count": null,
   "metadata": {},
   "outputs": [],
   "source": [
    "# os.chdir(path)"
   ]
  },
  {
   "cell_type": "markdown",
   "metadata": {},
   "source": [
    "### rename the current file to another name "
   ]
  },
  {
   "cell_type": "code",
   "execution_count": null,
   "metadata": {},
   "outputs": [],
   "source": [
    "shutil.move('tweets.json', 'tweets_temp.json')"
   ]
  },
  {
   "cell_type": "markdown",
   "metadata": {},
   "source": [
    "### open the file and read one tweet"
   ]
  },
  {
   "cell_type": "code",
   "execution_count": null,
   "metadata": {},
   "outputs": [],
   "source": [
    "with open('tweets_temp.json', 'rb') as f:\n",
    "    line = f.readline()\n",
    "    tweet = json.loads(line)\n",
    "    print(json.dumps(tweet, indent = 4))"
   ]
  },
  {
   "cell_type": "markdown",
   "metadata": {},
   "source": [
    "### process tweets and save in a csv file"
   ]
  },
  {
   "cell_type": "code",
   "execution_count": null,
   "metadata": {},
   "outputs": [],
   "source": [
    "csv_file = open('processed_tweets.csv', mode = 'a')\n",
    "with open('tweets_temp.json', 'rb') as f:\n",
    "    for line in f: \n",
    "        tweet = json.loads(line) \n",
    "        output = [tweet['id_str'], \n",
    "                  tweet['text'],\n",
    "                  tweet['created_at'],\n",
    "                  tweet['user']['id_str'],\n",
    "                  tweet['user']['screen_name'],\n",
    "                  tweet['lang']]\n",
    "        c_writer = csv.writer(csv_file, delimiter=',', quotechar='\"', \n",
    "                   quoting=csv.QUOTE_MINIMAL)\n",
    "        c_writer.writerow(output)\n",
    "csv_file.close()"
   ]
  },
  {
   "cell_type": "markdown",
   "metadata": {},
   "source": [
    "### compress the source tweet file in bzip2 format\n",
    "\n",
    "#### decide file name"
   ]
  },
  {
   "cell_type": "code",
   "execution_count": null,
   "metadata": {},
   "outputs": [],
   "source": [
    "source_file = 'tweets_temp.json'\n",
    "reg = re.compile('\\W+')\n",
    "outfile = \"tweets_\" + reg.sub('-', str(datetime.now())[:19]) + '.json.bz2'"
   ]
  },
  {
   "cell_type": "markdown",
   "metadata": {},
   "source": [
    "#### compression"
   ]
  },
  {
   "cell_type": "code",
   "execution_count": null,
   "metadata": {},
   "outputs": [],
   "source": [
    "comp = bz2.compress(open(source_file, 'rb').read(), compresslevel = 9)\n",
    "with open(outfile, 'wb') as fh:\n",
    "    fh.write(comp)"
   ]
  },
  {
   "cell_type": "code",
   "execution_count": null,
   "metadata": {},
   "outputs": [],
   "source": [
    "#### check the file\n",
    "import pandas as pd\n",
    "pd.read_csv(\"processed_tweets.csv\", header=None)"
   ]
  },
  {
   "cell_type": "code",
   "execution_count": null,
   "metadata": {},
   "outputs": [],
   "source": []
  }
 ],
 "metadata": {
  "kernelspec": {
   "display_name": "Python 3 (ipykernel)",
   "language": "python",
   "name": "python3"
  },
  "language_info": {
   "codemirror_mode": {
    "name": "ipython",
    "version": 3
   },
   "file_extension": ".py",
   "mimetype": "text/x-python",
   "name": "python",
   "nbconvert_exporter": "python",
   "pygments_lexer": "ipython3",
   "version": "3.8.10"
  }
 },
 "nbformat": 4,
 "nbformat_minor": 4
}
